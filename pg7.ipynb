{
 "cells": [
  {
   "cell_type": "code",
   "execution_count": 16,
   "id": "b77fd6e0-f623-4047-b475-a8411836cc03",
   "metadata": {},
   "outputs": [
    {
     "name": "stdout",
     "output_type": "stream",
     "text": [
      "120\n"
     ]
    }
   ],
   "source": [
    "#using function\n",
    "def calc_fact(n):\n",
    "    fact=1\n",
    "    for i in range(1,n+1):\n",
    "        fact*=i\n",
    "    print(fact)\n",
    "calc_fact(5)"
   ]
  },
  {
   "cell_type": "code",
   "execution_count": 24,
   "id": "74fc5d36-675f-42c2-aa3a-269e331e6853",
   "metadata": {},
   "outputs": [
    {
     "data": {
      "text/plain": [
       "24"
      ]
     },
     "execution_count": 24,
     "metadata": {},
     "output_type": "execute_result"
    }
   ],
   "source": [
    "#using recursion\n",
    "def fact(n):\n",
    "    if(n==0 or n==1):\n",
    "        return 1\n",
    "    return fact(n-1)*n\n",
    "cal_fact(4)"
   ]
  },
  {
   "cell_type": "code",
   "execution_count": 50,
   "id": "fa7a210b-93ad-4c2b-9090-f83293e4432a",
   "metadata": {},
   "outputs": [
    {
     "name": "stdout",
     "output_type": "stream",
     "text": [
      "15\n"
     ]
    }
   ],
   "source": [
    "def calc_sum(n):\n",
    "    if(n==0):\n",
    "        return 0\n",
    "    return calc_sum(n-1) + n\n",
    "    \n",
    "sum = calc_sum(5)\n",
    "print(sum)"
   ]
  },
  {
   "cell_type": "code",
   "execution_count": 92,
   "id": "daf556c6-5437-4e29-8a16-1f8d8903f16f",
   "metadata": {},
   "outputs": [
    {
     "name": "stdout",
     "output_type": "stream",
     "text": [
      "[3, 5, 6, 7, 9, 1, 2]\n"
     ]
    }
   ],
   "source": [
    "def print_list(list,idx=0):\n",
    "    if(idx==len(list)):\n",
    "        return\n",
    "    print(list[idx])\n",
    "    print_list(list,idx+1)\n",
    "nums=[3,5,6,7,9,1,2]\n",
    "print(nums)\n",
    "\n"
   ]
  },
  {
   "cell_type": "code",
   "execution_count": null,
   "id": "efe7bc02-ecd4-4d9c-92b5-1c2cd76dd92a",
   "metadata": {},
   "outputs": [],
   "source": []
  },
  {
   "cell_type": "code",
   "execution_count": null,
   "id": "8f566bbf-a2a3-4b65-ad2b-ef57e9185de6",
   "metadata": {},
   "outputs": [],
   "source": []
  }
 ],
 "metadata": {
  "kernelspec": {
   "display_name": "Python [conda env:base] *",
   "language": "python",
   "name": "conda-base-py"
  },
  "language_info": {
   "codemirror_mode": {
    "name": "ipython",
    "version": 3
   },
   "file_extension": ".py",
   "mimetype": "text/x-python",
   "name": "python",
   "nbconvert_exporter": "python",
   "pygments_lexer": "ipython3",
   "version": "3.12.7"
  }
 },
 "nbformat": 4,
 "nbformat_minor": 5
}
