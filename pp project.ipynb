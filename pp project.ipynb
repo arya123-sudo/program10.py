{
 "cells": [
  {
   "cell_type": "code",
   "execution_count": 2,
   "id": "df2166da-c4b0-49c5-aa63-0ddc36266b98",
   "metadata": {},
   "outputs": [
    {
     "name": "stdin",
     "output_type": "stream",
     "text": [
      "Enter your name:  hjh\n",
      "Enter your USN:  677687\n",
      "guess a number from 1 to 20: 4\n"
     ]
    },
    {
     "name": "stdout",
     "output_type": "stream",
     "text": [
      "low guess\n"
     ]
    },
    {
     "name": "stdin",
     "output_type": "stream",
     "text": [
      "guess a number from 1 to 20: 7\n"
     ]
    },
    {
     "name": "stdout",
     "output_type": "stream",
     "text": [
      "high guess\n"
     ]
    },
    {
     "name": "stdin",
     "output_type": "stream",
     "text": [
      "guess a number from 1 to 20: 6\n"
     ]
    },
    {
     "name": "stdout",
     "output_type": "stream",
     "text": [
      "high guess\n"
     ]
    },
    {
     "name": "stdin",
     "output_type": "stream",
     "text": [
      "guess a number from 1 to 20: 5\n"
     ]
    },
    {
     "name": "stdout",
     "output_type": "stream",
     "text": [
      "you have guessed right number\n",
      "you have guessed numbered in 3 attempt\n"
     ]
    }
   ],
   "source": [
    "import random\n",
    "name=input(\"Enter your name: \")\n",
    "USN=input(\"Enter your USN: \")\n",
    "target=random.randint(0,20)\n",
    "for i in range(20):\n",
    "    choice=int(input(\"guess a number from 1 to 20:\"))\n",
    "    if(choice==target):\n",
    "        print(\"you have guessed right number\")\n",
    "        print(\"you have guessed numbered in\" ,i,\"attempt\")\n",
    "        break\n",
    "    elif(choice<target):\n",
    "        print(\"low guess\")\n",
    "    else:\n",
    "        print(\"high guess\")"
   ]
  },
  {
   "cell_type": "code",
   "execution_count": null,
   "id": "f99ad167-b8ec-49e4-a14a-84f2d6d48a89",
   "metadata": {},
   "outputs": [],
   "source": []
  }
 ],
 "metadata": {
  "kernelspec": {
   "display_name": "Python [conda env:base] *",
   "language": "python",
   "name": "conda-base-py"
  },
  "language_info": {
   "codemirror_mode": {
    "name": "ipython",
    "version": 3
   },
   "file_extension": ".py",
   "mimetype": "text/x-python",
   "name": "python",
   "nbconvert_exporter": "python",
   "pygments_lexer": "ipython3",
   "version": "3.12.7"
  }
 },
 "nbformat": 4,
 "nbformat_minor": 5
}
