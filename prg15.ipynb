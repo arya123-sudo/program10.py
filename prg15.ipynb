{
 "cells": [
  {
   "cell_type": "code",
   "execution_count": 7,
   "id": "71cc92c5-8e78-4f21-aca4-0c1e55076c36",
   "metadata": {},
   "outputs": [
    {
     "name": "stdout",
     "output_type": "stream",
     "text": [
      "4\n",
      "9\n",
      "8\n",
      "3\n",
      "5\n",
      "2\n",
      "7\n"
     ]
    }
   ],
   "source": [
    "num=[4,9,8,3,5,2,7]\n",
    "i=0\n",
    "while i<len(num):\n",
    "        print(num[i])\n",
    "        i+=1"
   ]
  },
  {
   "cell_type": "code",
   "execution_count": 11,
   "id": "4d9d5fe3-db03-4162-8148-c2c5ba5bf6f6",
   "metadata": {},
   "outputs": [
    {
     "name": "stdout",
     "output_type": "stream",
     "text": [
      "4\n",
      "9\n",
      "8\n",
      "3\n",
      "5\n",
      "idx found 5\n"
     ]
    }
   ],
   "source": [
    "num=[4,9,8,3,5,2,7]\n",
    "x=5\n",
    "i=0\n",
    "while i<len(num):\n",
    "        if(i==x):\n",
    "            print(\"idx found\",i)\n",
    "            break\n",
    "        print(num[i])\n",
    "        i+=1"
   ]
  },
  {
   "cell_type": "code",
   "execution_count": 13,
   "id": "f2e67915-e3f5-4ff5-8490-759fc47bc8f0",
   "metadata": {},
   "outputs": [
    {
     "name": "stdout",
     "output_type": "stream",
     "text": [
      "5\n",
      "8\n",
      "7\n",
      "9\n",
      "6\n",
      "2\n",
      "3\n"
     ]
    }
   ],
   "source": [
    "num=[5,8,7,9,6,2,3]\n",
    "for valu in num:\n",
    "    print(valu)"
   ]
  },
  {
   "cell_type": "code",
   "execution_count": 27,
   "id": "fe4c1fbc-487a-4fc2-8a60-5ae1a7ea4e70",
   "metadata": {},
   "outputs": [
    {
     "name": "stdout",
     "output_type": "stream",
     "text": [
      "found at index 3\n"
     ]
    }
   ],
   "source": [
    "num=(9,2,4,6,1,9)\n",
    "x=6\n",
    "idx=0\n",
    "for valu in num:\n",
    "      if(valu==x):\n",
    "          print(\"found at index\",idx)\n",
    "      idx +=1\n",
    "          "
   ]
  },
  {
   "cell_type": "raw",
   "id": "febe0d1d-5b42-47fd-ba5d-37c498295b99",
   "metadata": {},
   "source": [
    "for i in range(1,100)\n",
    "    print(i)"
   ]
  },
  {
   "cell_type": "code",
   "execution_count": null,
   "id": "aae762e3-b629-47bd-9cef-0e0e238ebfa3",
   "metadata": {},
   "outputs": [],
   "source": []
  },
  {
   "cell_type": "code",
   "execution_count": null,
   "id": "cf48a9f5-fb62-47b1-bd75-913cc6275556",
   "metadata": {},
   "outputs": [],
   "source": []
  }
 ],
 "metadata": {
  "kernelspec": {
   "display_name": "Python [conda env:base] *",
   "language": "python",
   "name": "conda-base-py"
  },
  "language_info": {
   "codemirror_mode": {
    "name": "ipython",
    "version": 3
   },
   "file_extension": ".py",
   "mimetype": "text/x-python",
   "name": "python",
   "nbconvert_exporter": "python",
   "pygments_lexer": "ipython3",
   "version": "3.12.7"
  }
 },
 "nbformat": 4,
 "nbformat_minor": 5
}
