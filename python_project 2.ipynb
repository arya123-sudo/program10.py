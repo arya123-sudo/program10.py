{
 "cells": [
  {
   "cell_type": "code",
   "execution_count": 39,
   "id": "bdf9df93-506d-451e-9812-6c1a59f7ebe3",
   "metadata": {},
   "outputs": [
    {
     "name": "stdout",
     "output_type": "stream",
     "text": [
      "NAME=ARYA.R.YALIGAR\n",
      "USN=1AY24AI012\n",
      "\n"
     ]
    },
    {
     "name": "stdin",
     "output_type": "stream",
     "text": [
      "Enter a adjective:  silly\n",
      "Enter a noun:  chandelier \n",
      "Enter a verb:  screamed \n",
      "Enter a noun:  pickup truck\n"
     ]
    },
    {
     "name": "stdout",
     "output_type": "stream",
     "text": [
      "\n",
      "Final Output:\n",
      "\n",
      "The silly panda walked to the chandelier  and then screamed . A nearby pickup truck was\n",
      "unaffected by these events.\n",
      "\n"
     ]
    }
   ],
   "source": [
    "#1. Mad Libs Program\n",
    "print(\"NAME=ARYA.R.YALIGAR\\nUSN=1AY24AI012\\n\")\n",
    "import re\n",
    "# Read the input file\n",
    "with open(r\"C:\\Users\\aryay\\OneDrive\\Desktop\\python\\madlibs_input.txt\", \"r\") as file:\n",
    "    content = file.read()\n",
    "\n",
    "# Find all placeholders\n",
    "placeholders = re.findall(r'\\b(ADJECTIVE|NOUN|ADVERB|VERB)\\b', content)\n",
    "\n",
    "# Replace each placeholder with user input\n",
    "for word in placeholders:\n",
    "    user_input = input(f\"Enter a {word.lower()}: \")\n",
    "    content = content.replace(word, user_input, 1)\n",
    "\n",
    "# Print and save the result\n",
    "print(\"\\nFinal Output:\\n\")\n",
    "print(content)\n",
    "\n",
    "with open(\"madlib_output.txt\", \"w\") as file:\n",
    "    file.write(content)"
   ]
  },
  {
   "cell_type": "code",
   "execution_count": 41,
   "id": "5a0260b6-bd3b-48cf-9fe0-9d16b556106e",
   "metadata": {},
   "outputs": [
    {
     "name": "stdout",
     "output_type": "stream",
     "text": [
      "NAME=ARYA.R.YALIGAR\n",
      "USN=1AY24AI012\n",
      "\n"
     ]
    },
    {
     "name": "stdin",
     "output_type": "stream",
     "text": [
      "Enter folder path to search:  C:\\Users\\aryay\\OneDrive\\Desktop\\python\n",
      "Enter the regex pattern to search for:  unaffected\n"
     ]
    },
    {
     "name": "stdout",
     "output_type": "stream",
     "text": [
      "madlibs_input.txt [Line 2]: unaffected by these events.\n"
     ]
    }
   ],
   "source": [
    "# 2. Regex Search in .txt Files\n",
    "print(\"NAME=ARYA.R.YALIGAR\\nUSN=1AY24AI012\\n\")\n",
    "import os\n",
    "import re\n",
    "\n",
    "folder = input(\"Enter folder path to search: \").strip('\"')\n",
    "pattern = input(\"Enter the regex pattern to search for: \")\n",
    "\n",
    "if not os.path.isdir(folder):\n",
    "    print(\"Invalid folder path.\")\n",
    "    exit()\n",
    "\n",
    "regex = re.compile(pattern)\n",
    "\n",
    "for filename in os.listdir(folder):\n",
    "    if filename.endswith('.txt'):\n",
    "        filepath = os.path.join(folder, filename)\n",
    "        try:\n",
    "            with open(filepath, 'r', encoding='utf-8') as file:\n",
    "                for i, line in enumerate(file, 1):\n",
    "                    if regex.search(line):\n",
    "                        print(f\"{filename} [Line {i}]: {line.strip()}\")\n",
    "        except UnicodeDecodeError:\n",
    "            print(f\"Skipping unreadable file (encoding issue): {filename}\")\n"
   ]
  },
  {
   "cell_type": "code",
   "execution_count": 43,
   "id": "73bfdccb-c813-4d57-abda-e606c9015e35",
   "metadata": {},
   "outputs": [
    {
     "name": "stdout",
     "output_type": "stream",
     "text": [
      "NAME=ARYA.R.YALIGAR\n",
      "USN=1AY24AI012\n",
      "\n"
     ]
    },
    {
     "name": "stdin",
     "output_type": "stream",
     "text": [
      "Enter source folder:  C:\\Users\\aryay\\OneDrive\\Desktop\\python\n",
      "Enter destination folder:  your_folder\n",
      "Enter file extension to copy (e.g., .jpg):  my_folder.pdf\n"
     ]
    }
   ],
   "source": [
    "#3. Selective Copy of Specific File Extensions\n",
    "print(\"NAME=ARYA.R.YALIGAR\\nUSN=1AY24AI012\\n\")\n",
    "import os\n",
    "import shutil\n",
    "\n",
    "source = input(\"Enter source folder: \")\n",
    "destination = input(\"Enter destination folder: \")\n",
    "file_ext = input(\"Enter file extension to copy (e.g., .jpg): \").lower()\n",
    "\n",
    "os.makedirs(destination, exist_ok=True)\n",
    "\n",
    "# Walk through directory tree\n",
    "for foldername, subfolders, filenames in os.walk(source):\n",
    "    for filename in filenames:\n",
    "        if filename.lower().endswith(file_ext):\n",
    "            source_path = os.path.join(foldername, filename)\n",
    "            shutil.copy(source_path, destination)\n",
    "            print(f\"Copied: {source_path}\")\n"
   ]
  },
  {
   "cell_type": "code",
   "execution_count": 45,
   "id": "976435e2-e269-4292-9edd-207ee1c4ee35",
   "metadata": {},
   "outputs": [
    {
     "name": "stdout",
     "output_type": "stream",
     "text": [
      "NAME=ARYA.R.YALIGAR\n",
      "USN=1AY24AI012\n",
      "\n"
     ]
    },
    {
     "name": "stdin",
     "output_type": "stream",
     "text": [
      "Enter folder to search:  my_folder\n"
     ]
    }
   ],
   "source": [
    "#4 Filling in the Gaps\n",
    "print(\"NAME=ARYA.R.YALIGAR\\nUSN=1AY24AI012\\n\")\n",
    "import os\n",
    "folder = input(\"Enter folder to search: \")\n",
    "\n",
    "# 100MB in bytes\n",
    "threshold = 100 * 1024 * 1024\n",
    "\n",
    "for foldername, subfolders, filenames in os.walk(folder):\n",
    "    for filename in filenames:\n",
    "        filepath = os.path.join(foldername, filename)\n",
    "        try:\n",
    "            size = os.path.getsize(filepath)\n",
    "            if size > threshold:\n",
    "                size_mb = size / (1024 * 1024)\n",
    "                print(f\"{filepath} — {size_mb:.2f} MB\")\n",
    "        except Exception as e:\n",
    "            print(f\"Could not access: {filepath} — {e}\")\n"
   ]
  },
  {
   "cell_type": "code",
   "execution_count": 47,
   "id": "22ecbf42-4f67-49ea-9061-ec3bf2f8a5a7",
   "metadata": {},
   "outputs": [
    {
     "name": "stdout",
     "output_type": "stream",
     "text": [
      "NAME=ARYA.R.YALIGAR\n",
      "USN=1AY24AI012\n",
      "\n",
      "Guess the coin toss! Enter heads or tails:\n"
     ]
    },
    {
     "name": "stdin",
     "output_type": "stream",
     "text": [
      " heads\n"
     ]
    },
    {
     "name": "stdout",
     "output_type": "stream",
     "text": [
      "You got it!\n"
     ]
    }
   ],
   "source": [
    "#6 Debugging Coin Toss\n",
    "print(\"NAME=ARYA.R.YALIGAR\\nUSN=1AY24AI012\\n\")\n",
    "import random\n",
    "# Get a valid first guess\n",
    "guess = ''\n",
    "while guess not in ('heads', 'tails'):\n",
    "    print('Guess the coin toss! Enter heads or tails:')\n",
    "    guess = input().lower()\n",
    "\n",
    "# Simulate coin toss\n",
    "toss = random.randint(0, 1)  # 0 = tails, 1 = heads\n",
    "toss_result = 'heads' if toss == 1 else 'tails'\n",
    "\n",
    "# Check first guess\n",
    "if guess == toss_result:\n",
    "    print('You got it!')\n",
    "else:\n",
    "    print('Nope! Guess again!')\n",
    "    \n",
    "    # Get a valid second guess\n",
    "    guess = ''\n",
    "    while guess not in ('heads', 'tails'):\n",
    "        print('Enter heads or tails:')\n",
    "        guess = input().lower()\n",
    "    \n",
    "    if guess == toss_result:\n",
    "        print('You got it!')\n",
    "    else:\n",
    "        print('Nope. You are really bad at this game.')\n"
   ]
  },
  {
   "cell_type": "code",
   "execution_count": 59,
   "id": "6778e6a4-0524-426f-a319-da96f4db8644",
   "metadata": {},
   "outputs": [
    {
     "name": "stdout",
     "output_type": "stream",
     "text": [
      "NAME=ARYA.R.YALIGAR\n",
      "USN=1AY24AI012\n",
      "\n"
     ]
    },
    {
     "name": "stdin",
     "output_type": "stream",
     "text": [
      "Enter folder path:  C:\\Users\\aryay\\OneDrive\\Desktop\\python\n",
      "Enter file prefix (e.g., spam):  program1.py\n"
     ]
    }
   ],
   "source": [
    "#5 Filling in the Gaps\n",
    "print(\"NAME=ARYA.R.YALIGAR\\nUSN=1AY24AI012\\n\")\n",
    "import os\n",
    "import re\n",
    "import shutil\n",
    "\n",
    "folder = input(\"Enter folder path: \").strip().strip('\"')\n",
    "prefix = input(\"Enter file prefix (e.g., spam): \").strip()\n",
    "pattern = re.compile(rf'^{re.escape(prefix)}(\\d+)\\.txt$')\n",
    "\n",
    "# Collect and sort matched files\n",
    "files = []\n",
    "for filename in os.listdir(folder):\n",
    "    match = pattern.match(filename)\n",
    "    if match:\n",
    "        number = int(match.group(1))\n",
    "        files.append((number, filename))\n",
    "\n",
    "files.sort()  # Sort by number\n",
    "\n",
    "# Rename files to close gaps\n",
    "expected = 1\n",
    "for actual, filename in files:\n",
    "    if actual != expected:\n",
    "        new_name = f\"{prefix}{str(expected).zfill(3)}.txt\"\n",
    "        print(f\"Renaming {filename} -> {new_name}\")\n",
    "        shutil.move(os.path.join(folder, filename), os.path.join(folder, new_name))\n",
    "    expected += 1\n"
   ]
  },
  {
   "cell_type": "code",
   "execution_count": 88,
   "id": "10310a6c-8a07-4ab6-a5ce-6cba45b78d98",
   "metadata": {},
   "outputs": [
    {
     "name": "stdout",
     "output_type": "stream",
     "text": [
      "NAME=ARYA.R.YALIGAR\n",
      "USN=1AY24AI012\n",
      "\n",
      "Circle center: (150, 100), radius = 75\n",
      "Test Point: (160, 100)\n",
      "Rectangle corner: (120, 80), width = 30, height = 40\n",
      "\n",
      "1. Is the point inside the circle?\n",
      "   → True\n",
      "\n",
      "2. Is the entire rectangle inside the circle?\n",
      "   → True\n",
      "\n",
      "3. Does the rectangle overlap with the circle?\n",
      "   → True\n"
     ]
    }
   ],
   "source": [
    "#7 Class Definitions and Helper Functions\n",
    "print(\"NAME=ARYA.R.YALIGAR\\nUSN=1AY24AI012\\n\")\n",
    "import math\n",
    "\n",
    "# Class Definitions\n",
    "class Point:\n",
    "    def __init__(self, x, y):\n",
    "        self.x = x\n",
    "        self.y = y\n",
    "\n",
    "class Circle:\n",
    "    def __init__(self, center, radius):\n",
    "        self.center = center\n",
    "        self.radius = radius\n",
    "\n",
    "class Rectangle:\n",
    "    def __init__(self, corner, width, height):\n",
    "        self.corner = corner  # Bottom-left point\n",
    "        self.width = width\n",
    "        self.height = height\n",
    "\n",
    "# Helper Functions\n",
    "def distance(p1, p2):\n",
    "    return math.hypot(p1.x - p2.x, p1.y - p2.y)\n",
    "\n",
    "def point_in_circle(circle, point):\n",
    "    return distance(circle.center, point) <= circle.radius\n",
    "\n",
    "def get_rectangle_corners(rect):\n",
    "    x, y = rect.corner.x, rect.corner.y\n",
    "    return [\n",
    "        Point(x, y),  # Bottom-left\n",
    "        Point(x + rect.width, y),  # Bottom-right\n",
    "        Point(x, y + rect.height),  # Top-left\n",
    "        Point(x + rect.width, y + rect.height)  # Top-right\n",
    "    ]\n",
    "\n",
    "def rect_in_circle(circle, rect):\n",
    "    return all(point_in_circle(circle, corner) for corner in get_rectangle_corners(rect))\n",
    "\n",
    "def rect_circle_overlap(circle, rect):\n",
    "    return any(point_in_circle(circle, corner) for corner in get_rectangle_corners(rect))\n",
    "\n",
    "# -------------------------------\n",
    "# Test Program with Output\n",
    "# -------------------------------\n",
    "# Create Circle at (150, 100), radius 75\n",
    "circle = Circle(Point(150, 100), 75)\n",
    "\n",
    "# Create Point to test\n",
    "test_point = Point(160, 100)\n",
    "\n",
    "# Create Rectangle at (120, 80), width=30, height=40\n",
    "rect = Rectangle(Point(120, 80), 30, 40)\n",
    "\n",
    "# Display Results\n",
    "print(\"Circle center:\", f\"({circle.center.x}, {circle.center.y}), radius = {circle.radius}\")\n",
    "print(\"Test Point:\", f\"({test_point.x}, {test_point.y})\")\n",
    "print(\"Rectangle corner:\", f\"({rect.corner.x}, {rect.corner.y}), width = {rect.width}, height = {rect.height}\\n\")\n",
    "\n",
    "print(\"1. Is the point inside the circle?\")\n",
    "print(\"   →\", point_in_circle(circle, test_point))\n",
    "\n",
    "print(\"\\n2. Is the entire rectangle inside the circle?\")\n",
    "print(\"   →\", rect_in_circle(circle, rect))\n",
    "\n",
    "print(\"\\n3. Does the rectangle overlap with the circle?\")\n",
    "print(\"   →\", rect_circle_overlap(circle, rect))\n",
    "\n",
    "\n",
    "\n",
    "\n",
    "\n",
    "\n"
   ]
  },
  {
   "cell_type": "code",
   "execution_count": 84,
   "id": "f1e86142-abaf-49db-bc85-a2ef711f9fa4",
   "metadata": {},
   "outputs": [
    {
     "name": "stdout",
     "output_type": "stream",
     "text": [
      "NAME=ARYA.R.YALIGAR\n",
      "USN=1AY24AI012\n",
      "\n",
      "Finishing time: 01:30:00\n",
      "Distance: 10 miles\n",
      "Average pace per mile: 00:09:00\n",
      "Time multiplied by 2.5: 03:45:00\n"
     ]
    }
   ],
   "source": [
    "#8program\n",
    "print(\"NAME=ARYA.R.YALIGAR\\nUSN=1AY24AI012\\n\")\n",
    "class Time:\n",
    "    def __init__(self, hours=0, minutes=0, seconds=0):\n",
    "        self.hours = hours\n",
    "        self.minutes = minutes\n",
    "        self.seconds = seconds\n",
    "\n",
    "    def __str__(self):\n",
    "        return f\"{self.hours:02}:{self.minutes:02}:{self.seconds:02}\"\n",
    "\n",
    "    def time_to_seconds(self):\n",
    "        \"\"\"Convert Time object to total seconds.\"\"\"\n",
    "        return self.hours * 3600 + self.minutes * 60 + self.seconds\n",
    "\n",
    "    @classmethod\n",
    "    def seconds_to_time(cls, total_seconds):\n",
    "        \"\"\"Convert total seconds to Time object.\"\"\"\n",
    "        hours = int(total_seconds // 3600)\n",
    "        minutes = int((total_seconds % 3600) // 60)\n",
    "        seconds = int(total_seconds % 60)\n",
    "        return cls(hours, minutes, seconds)\n",
    "\n",
    "def mul_time(time, number):\n",
    "    \"\"\"Multiply a Time object by a number and return a new Time object.\"\"\"\n",
    "    total_seconds = time.time_to_seconds() * number\n",
    "    return Time.seconds_to_time(total_seconds)\n",
    "\n",
    "def pace(finishing_time, distance):\n",
    "    \"\"\"Return average pace (time per mile) as a Time object.\"\"\"\n",
    "    seconds_per_mile = finishing_time.time_to_seconds() / distance\n",
    "    return Time.seconds_to_time(seconds_per_mile)\n",
    "\n",
    "# Finishing time: 1 hour 30 minutes\n",
    "finishing_time = Time(1, 30, 0)\n",
    "distance = 10  # 10 miles\n",
    "\n",
    "# Calculate average pace\n",
    "avg_pace = pace(finishing_time, distance)\n",
    "print(\"Finishing time:\", finishing_time)\n",
    "print(\"Distance:\", distance, \"miles\")\n",
    "print(\"Average pace per mile:\", avg_pace)\n",
    "\n",
    "# Multiply time by a factor\n",
    "factor = 2.5\n",
    "scaled_time = mul_time(finishing_time, factor)\n",
    "print(f\"Time multiplied by {factor}:\", scaled_time)\n",
    "\n"
   ]
  },
  {
   "cell_type": "code",
   "execution_count": 90,
   "id": "e418c891-549d-49cf-818f-b8f9442b45bc",
   "metadata": {},
   "outputs": [
    {
     "name": "stdout",
     "output_type": "stream",
     "text": [
      "NAME=ARYA.R.YALIGAR\n",
      "USN=1AY24AI012\n",
      "\n",
      "\n",
      "--- Date & Time Utilities ---\n",
      "1. Print current day of the week\n",
      "2. Calculate age and time until next birthday\n",
      "3. Calculate Double Day (one is twice as old)\n",
      "4. Calculate N-times older day\n",
      "5. Exit\n"
     ]
    },
    {
     "name": "stdin",
     "output_type": "stream",
     "text": [
      "Enter your choice (1-5):  2\n",
      "Enter your birthday (YYYY-MM-DD):  2006-03-29\n"
     ]
    },
    {
     "name": "stdout",
     "output_type": "stream",
     "text": [
      "\n",
      "You are 19 years old.\n",
      "Time until next birthday: 277 days, 0 hours, 30 minutes, 52 seconds.\n",
      "\n",
      "--- Date & Time Utilities ---\n",
      "1. Print current day of the week\n",
      "2. Calculate age and time until next birthday\n",
      "3. Calculate Double Day (one is twice as old)\n",
      "4. Calculate N-times older day\n",
      "5. Exit\n"
     ]
    },
    {
     "name": "stdin",
     "output_type": "stream",
     "text": [
      "Enter your choice (1-5):  1\n"
     ]
    },
    {
     "name": "stdout",
     "output_type": "stream",
     "text": [
      "Today is: Tuesday\n",
      "\n",
      "--- Date & Time Utilities ---\n",
      "1. Print current day of the week\n",
      "2. Calculate age and time until next birthday\n",
      "3. Calculate Double Day (one is twice as old)\n",
      "4. Calculate N-times older day\n",
      "5. Exit\n"
     ]
    },
    {
     "name": "stdin",
     "output_type": "stream",
     "text": [
      "Enter your choice (1-5):  5\n"
     ]
    },
    {
     "name": "stdout",
     "output_type": "stream",
     "text": [
      "Goodbye!\n"
     ]
    }
   ],
   "source": [
    "#program 9\n",
    "print(\"NAME=ARYA.R.YALIGAR\\nUSN=1AY24AI012\\n\")\n",
    "from datetime import datetime, date, timedelta\n",
    "\n",
    "# 1. Print the current day of the week\n",
    "def print_day_of_week():\n",
    "    today = date.today()\n",
    "    print(\"Today is:\", today.strftime(\"%A\"))\n",
    "\n",
    "# 2. Calculate user's age and time until next birthday\n",
    "def birthday_info():\n",
    "    bday_input = input(\"Enter your birthday (YYYY-MM-DD): \")\n",
    "    try:\n",
    "        birthday = datetime.strptime(bday_input, \"%Y-%m-%d\").date()\n",
    "    except ValueError:\n",
    "        print(\"Invalid format. Please use YYYY-MM-DD.\")\n",
    "        return\n",
    "\n",
    "    today = date.today()\n",
    "    age = today.year - birthday.year\n",
    "    if (today.month, today.day) < (birthday.month, birthday.day):\n",
    "        age -= 1\n",
    "\n",
    "    # Next birthday\n",
    "    next_birthday = birthday.replace(year=today.year)\n",
    "    if next_birthday < today:\n",
    "        next_birthday = next_birthday.replace(year=today.year + 1)\n",
    "\n",
    "    time_until = datetime.combine(next_birthday, datetime.min.time()) - datetime.now()\n",
    "\n",
    "    print(f\"\\nYou are {age} years old.\")\n",
    "    print(f\"Time until next birthday: {time_until.days} days, {time_until.seconds // 3600} hours, \"\n",
    "          f\"{(time_until.seconds % 3600) // 60} minutes, {time_until.seconds % 60} seconds.\")\n",
    "\n",
    "# 3. Compute the Double Day\n",
    "def double_day(birth1_str, birth2_str):\n",
    "    try:\n",
    "        birth1 = datetime.strptime(birth1_str, \"%Y-%m-%d\").date()\n",
    "        birth2 = datetime.strptime(birth2_str, \"%Y-%m-%d\").date()\n",
    "    except ValueError:\n",
    "        print(\"Invalid format. Please use YYYY-MM-DD.\")\n",
    "        return\n",
    "\n",
    "    if birth2 < birth1:\n",
    "        birth1, birth2 = birth2, birth1\n",
    "\n",
    "    diff_days = (birth2 - birth1).days\n",
    "    double_day = birth2 + timedelta(days=diff_days)\n",
    "\n",
    "    print(\"Double Day (when one is twice as old):\", double_day.strftime(\"%Y-%m-%d\"))\n",
    "\n",
    "# 4. Compute N-times older day\n",
    "def n_times_day(birth1_str, birth2_str, n):\n",
    "    try:\n",
    "        birth1 = datetime.strptime(birth1_str, \"%Y-%m-%d\").date()\n",
    "        birth2 = datetime.strptime(birth2_str, \"%Y-%m-%d\").date()\n",
    "    except ValueError:\n",
    "        print(\"Invalid format. Please use YYYY-MM-DD.\")\n",
    "        return\n",
    "\n",
    "    if birth2 < birth1:\n",
    "        birth1, birth2 = birth2, birth1\n",
    "        n = 1 / n\n",
    "\n",
    "    days_between = (birth2 - birth1).days\n",
    "    n_times_days = days_between / (n - 1)\n",
    "    result_day = birth1 + timedelta(days=n_times_days)\n",
    "\n",
    "    print(f\"{n:.1f} times older day is:\", result_day.strftime(\"%Y-%m-%d\"))\n",
    "\n",
    "def main():\n",
    "    while True:\n",
    "        print(\"\\n--- Date & Time Utilities ---\")\n",
    "        print(\"1. Print current day of the week\")\n",
    "        print(\"2. Calculate age and time until next birthday\")\n",
    "        print(\"3. Calculate Double Day (one is twice as old)\")\n",
    "        print(\"4. Calculate N-times older day\")\n",
    "        print(\"5. Exit\")\n",
    "\n",
    "        choice = input(\"Enter your choice (1-5): \").strip()\n",
    "\n",
    "        if choice == '1':\n",
    "            print_day_of_week()\n",
    "        elif choice == '2':\n",
    "            birthday_info()\n",
    "        elif choice == '3':\n",
    "            b1 = input(\"Enter birthdate of person 1 (YYYY-MM-DD): \")\n",
    "            b2 = input(\"Enter birthdate of person 2 (YYYY-MM-DD): \")\n",
    "            double_day(b1, b2)\n",
    "        elif choice == '4':\n",
    "            b1 = input(\"Enter birthdate of person 1 (YYYY-MM-DD): \")\n",
    "            b2 = input(\"Enter birthdate of person 2 (YYYY-MM-DD): \")\n",
    "            try:\n",
    "                n = float(input(\"Enter n (e.g., 3 for 'three times older'): \"))\n",
    "                if n <= 1:\n",
    "                    print(\"n must be greater than 1.\")\n",
    "                else:\n",
    "                    n_times_day(b1, b2, n)\n",
    "            except ValueError:\n",
    "                print(\"Invalid number.\")\n",
    "        elif choice == '5':\n",
    "            print(\"Goodbye!\")\n",
    "            break\n",
    "        else:\n",
    "            print(\"Invalid choice. Please try again.\")\n",
    "\n",
    "# Run the program\n",
    "if __name__ == \"__main__\":\n",
    "    main()\n",
    "\n"
   ]
  },
  {
   "cell_type": "code",
   "execution_count": 92,
   "id": "13e97d9d-1db7-46eb-8827-0bf698bcbcee",
   "metadata": {},
   "outputs": [
    {
     "name": "stdout",
     "output_type": "stream",
     "text": [
      "NAME=ARYA.R.YALIGAR\n",
      "USN=1AY24AI012\n",
      "\n",
      "t1 = 11:59:30\n",
      "t2 = 01:00:30\n",
      "t1 + t2 = 13:00:00\n",
      "t1 + 500 seconds = 12:07:50\n",
      "t1 is after t2? True\n",
      "Sum of t1, t2, t3 = 26:00:00\n"
     ]
    }
   ],
   "source": [
    "#program 10\n",
    "print(\"NAME=ARYA.R.YALIGAR\\nUSN=1AY24AI012\\n\")\n",
    "class Time:\n",
    "    def __init__(self, hour=0, minute=0, second=0):\n",
    "        self.seconds = hour * 3600 + minute * 60 + second\n",
    "\n",
    "    def __str__(self):\n",
    "        hour, minute, second = self.to_hms()\n",
    "        return f\"{hour:02}:{minute:02}:{second:02}\"\n",
    "\n",
    "    def to_hms(self):\n",
    "        hour = self.seconds // 3600\n",
    "        minute = (self.seconds % 3600) // 60\n",
    "        second = self.seconds % 60\n",
    "        return hour, minute, second\n",
    "\n",
    "    def print_time(self):\n",
    "        print(str(self))\n",
    "\n",
    "    def is_after(self, other):\n",
    "        return self.seconds > other.seconds\n",
    "\n",
    "    def add_time(self, other):\n",
    "        return Time(0, 0, self.seconds + other.seconds)\n",
    "\n",
    "    def increment(self, seconds):\n",
    "        return Time(0, 0, self.seconds + seconds)\n",
    "\n",
    "    def __add__(self, other):\n",
    "        if isinstance(other, Time):\n",
    "            return Time(0, 0, self.seconds + other.seconds)\n",
    "        else:\n",
    "            # Assume it's a number of seconds\n",
    "            return Time(0, 0, self.seconds + other)\n",
    "\n",
    "    def __radd__(self, other):\n",
    "        return self.__add__(other)\n",
    "\n",
    "def int_to_time(seconds):\n",
    "    return Time(0, 0, seconds)\n",
    "\n",
    "# ----------------------\n",
    "# Main (Test Code)\n",
    "# ----------------------\n",
    "\n",
    "def main():\n",
    "    t1 = Time(11, 59, 30)\n",
    "    t2 = Time(1, 0, 30)\n",
    "    print(\"t1 =\", t1)\n",
    "    print(\"t2 =\", t2)\n",
    "\n",
    "    t3 = t1.add_time(t2)\n",
    "    print(\"t1 + t2 =\", t3)\n",
    "\n",
    "    t4 = t1.increment(500)\n",
    "    print(\"t1 + 500 seconds =\", t4)\n",
    "\n",
    "    print(\"t1 is after t2?\", t1.is_after(t2))\n",
    "\n",
    "    total = sum([t1, t2, t3], Time(0, 0, 0))\n",
    "    print(\"Sum of t1, t2, t3 =\", total)\n",
    "\n",
    "if __name__ == \"__main__\":\n",
    "    main()\n"
   ]
  },
  {
   "cell_type": "code",
   "execution_count": 96,
   "id": "8ebc8f33-9521-4a6e-af14-0c8b48dfa516",
   "metadata": {},
   "outputs": [
    {
     "name": "stdout",
     "output_type": "stream",
     "text": [
      "NAME=ARYA.R.YALIGAR\n",
      "USN=1AY24AI012\n",
      "\n",
      "Kanga: Kangaroo with pouch contents: [Kangaroo with pouch contents: []]\n",
      "Roo: Kangaroo with pouch contents: []\n"
     ]
    }
   ],
   "source": [
    "#program 11\n",
    "print(\"NAME=ARYA.R.YALIGAR\\nUSN=1AY24AI012\\n\")\n",
    "class Kangaroo:\n",
    "    def __init__(self):\n",
    "        # Always create a new list for each instance\n",
    "        self.pouch_contents = []\n",
    "\n",
    "    def put_in_pouch(self, item):\n",
    "        self.pouch_contents.append(item)\n",
    "\n",
    "    def __str__(self):\n",
    "        contents = ', '.join(str(item) for item in self.pouch_contents)\n",
    "        return f'Kangaroo with pouch contents: [{contents}]'\n",
    "# Create two Kangaroo objects\n",
    "kanga = Kangaroo()\n",
    "roo = Kangaroo()\n",
    "\n",
    "# Put 'roo' inside 'kanga's pouch\n",
    "kanga.put_in_pouch(roo)\n",
    "\n",
    "# Print both Kangaroos\n",
    "print(\"Kanga:\", kanga)\n",
    "print(\"Roo:\", roo)\n",
    "\n"
   ]
  },
  {
   "cell_type": "code",
   "execution_count": null,
   "id": "784a80a2-39b0-4bd6-af82-c9f749ba578a",
   "metadata": {},
   "outputs": [],
   "source": []
  }
 ],
 "metadata": {
  "kernelspec": {
   "display_name": "Python [conda env:base] *",
   "language": "python",
   "name": "conda-base-py"
  },
  "language_info": {
   "codemirror_mode": {
    "name": "ipython",
    "version": 3
   },
   "file_extension": ".py",
   "mimetype": "text/x-python",
   "name": "python",
   "nbconvert_exporter": "python",
   "pygments_lexer": "ipython3",
   "version": "3.12.7"
  }
 },
 "nbformat": 4,
 "nbformat_minor": 5
}
