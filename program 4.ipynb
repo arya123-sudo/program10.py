{
 "cells": [
  {
   "cell_type": "code",
   "execution_count": 46,
   "id": "2287d6c3-0b52-4136-9efb-2037324a4551",
   "metadata": {},
   "outputs": [
    {
     "name": "stdin",
     "output_type": "stream",
     "text": [
      "enter a first number : 4\n",
      "enter a secound number : 5\n"
     ]
    },
    {
     "name": "stdout",
     "output_type": "stream",
     "text": [
      "the result is : 9.0\n"
     ]
    }
   ],
   "source": [
    "num1=float(input(\"enter a first number :\"))\n",
    "num2=float(input(\"enter a secound number :\"))\n",
    "sum=num1+num2\n",
    "print(\"the result is :\",sum)"
   ]
  },
  {
   "cell_type": "code",
   "execution_count": 58,
   "id": "5237de0b-ad52-4d78-8f6a-4b2eb9e8e445",
   "metadata": {},
   "outputs": [
    {
     "name": "stdin",
     "output_type": "stream",
     "text": [
      "enter the side:  2\n"
     ]
    },
    {
     "name": "stdout",
     "output_type": "stream",
     "text": [
      "area is : 4.0\n"
     ]
    }
   ],
   "source": [
    "side=float(input(\"enter the side: \"))\n",
    "area=side*side\n",
    "print(\"area is :\",area)"
   ]
  },
  {
   "cell_type": "code",
   "execution_count": 62,
   "id": "dfba02fd-8f32-49e4-9c73-a8224ff559a0",
   "metadata": {},
   "outputs": [
    {
     "name": "stdin",
     "output_type": "stream",
     "text": [
      "enter a first number : 3\n",
      "enter a secound number : 4\n"
     ]
    },
    {
     "name": "stdout",
     "output_type": "stream",
     "text": [
      "average = 5.0\n"
     ]
    }
   ],
   "source": [
    "num1=float(input(\"enter a first number :\"))\n",
    "num2=float(input(\"enter a secound number :\"))\n",
    "average = num1+num2/2\n",
    "print(\"average =\",average)"
   ]
  },
  {
   "cell_type": "code",
   "execution_count": 66,
   "id": "f6f84963-b49b-444c-97c7-5c9839ce37c4",
   "metadata": {},
   "outputs": [
    {
     "name": "stdin",
     "output_type": "stream",
     "text": [
      "enter a first number : 3\n",
      "enter a secound number : 4\n"
     ]
    },
    {
     "name": "stdout",
     "output_type": "stream",
     "text": [
      "it is false\n"
     ]
    }
   ],
   "source": [
    "a=int(input(\"enter a first number :\"))\n",
    "b=int(input(\"enter a secound number :\"))\n",
    "if(a>=b):\n",
    "      print(\"it is true\")\n",
    "else:\n",
    "      print(\"it is false\")"
   ]
  },
  {
   "cell_type": "code",
   "execution_count": null,
   "id": "e518ed35-c552-4f95-85e9-83481654aaf0",
   "metadata": {},
   "outputs": [],
   "source": []
  }
 ],
 "metadata": {
  "kernelspec": {
   "display_name": "Python [conda env:base] *",
   "language": "python",
   "name": "conda-base-py"
  },
  "language_info": {
   "codemirror_mode": {
    "name": "ipython",
    "version": 3
   },
   "file_extension": ".py",
   "mimetype": "text/x-python",
   "name": "python",
   "nbconvert_exporter": "python",
   "pygments_lexer": "ipython3",
   "version": "3.12.7"
  }
 },
 "nbformat": 4,
 "nbformat_minor": 5
}
