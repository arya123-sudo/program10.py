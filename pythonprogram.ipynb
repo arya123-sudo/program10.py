{
 "cells": [
  {
   "cell_type": "code",
   "execution_count": 6,
   "id": "e6c37868-6d92-489e-b1db-339917de3929",
   "metadata": {},
   "outputs": [
    {
     "name": "stdin",
     "output_type": "stream",
     "text": [
      "enter youer name : arya\n"
     ]
    },
    {
     "name": "stdout",
     "output_type": "stream",
     "text": [
      "length of your name is  4\n"
     ]
    }
   ],
   "source": [
    "name=input(\"enter youer name :\")\n",
    "length1=len(name)\n",
    "print(\"length of your name is \",length1)"
   ]
  },
  {
   "cell_type": "code",
   "execution_count": 15,
   "id": "8af55741-5443-4fbe-920a-98681b534f39",
   "metadata": {},
   "outputs": [
    {
     "name": "stdout",
     "output_type": "stream",
     "text": [
      "4\n"
     ]
    }
   ],
   "source": [
    "str=\"Hi,am,lengend,of lord known as arya\"\n",
    "print(str.count(\"a\"))"
   ]
  },
  {
   "cell_type": "code",
   "execution_count": 27,
   "id": "53f1898f-988a-40e7-b1b8-fa71892b27ea",
   "metadata": {},
   "outputs": [
    {
     "name": "stdin",
     "output_type": "stream",
     "text": [
      "enter a number : 0\n"
     ]
    },
    {
     "name": "stdout",
     "output_type": "stream",
     "text": [
      "it is zero\n"
     ]
    }
   ],
   "source": [
    "num1=int(input(\"enter a number :\"))\n",
    "if(num1>0 and num1%2==0):\n",
    "   print(\"number is even positive\")\n",
    "if(num1<0 and num1%2==0):\n",
    "   print(\"number is even negative\")\n",
    "if(num1>0 and num1%2!=0):\n",
    "   print(\"number is odd positive\")\n",
    "if(num1<0 and num1%2!=0):\n",
    "   print(\"number is odd negative\")\n",
    "if(num1==0):\n",
    "   print(\"it is zero\")"
   ]
  },
  {
   "cell_type": "code",
   "execution_count": null,
   "id": "7f685586-35e2-4765-bac3-f1b5159c6439",
   "metadata": {},
   "outputs": [],
   "source": []
  }
 ],
 "metadata": {
  "kernelspec": {
   "display_name": "Python [conda env:base] *",
   "language": "python",
   "name": "conda-base-py"
  },
  "language_info": {
   "codemirror_mode": {
    "name": "ipython",
    "version": 3
   },
   "file_extension": ".py",
   "mimetype": "text/x-python",
   "name": "python",
   "nbconvert_exporter": "python",
   "pygments_lexer": "ipython3",
   "version": "3.12.7"
  }
 },
 "nbformat": 4,
 "nbformat_minor": 5
}
