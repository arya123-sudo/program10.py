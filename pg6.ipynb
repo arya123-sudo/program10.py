{
 "cells": [
  {
   "cell_type": "code",
   "execution_count": 4,
   "id": "6d1a2a68-f3d8-4fcf-b419-71962e2ce06e",
   "metadata": {},
   "outputs": [
    {
     "name": "stdout",
     "output_type": "stream",
     "text": [
      "3\n",
      "6\n",
      "9\n",
      "8\n",
      "1\n",
      "2\n",
      "4\n"
     ]
    }
   ],
   "source": [
    "nums=[3,6,9,8,1,2,4]\n",
    "i=0\n",
    "for valu in nums:\n",
    "       print(nums[i])\n",
    "       i+=1"
   ]
  },
  {
   "cell_type": "code",
   "execution_count": 19,
   "id": "49595479-72e0-4a85-89c8-2ed121ab996a",
   "metadata": {},
   "outputs": [
    {
     "name": "stdout",
     "output_type": "stream",
     "text": [
      "7\n"
     ]
    }
   ],
   "source": [
    "nums=[8,3,7,4,2,1,9]\n",
    "def print_len(list):\n",
    "    print(len(list))\n",
    "    \n",
    "print_len(nums)"
   ]
  },
  {
   "cell_type": "code",
   "execution_count": 31,
   "id": "ae3d3d87-6272-4fb5-a003-a57c9c3dd28a",
   "metadata": {},
   "outputs": [
    {
     "name": "stdout",
     "output_type": "stream",
     "text": [
      "75 USD= 6375 INR\n"
     ]
    }
   ],
   "source": [
    "def converter(usd_value):\n",
    "    INR_value=usd_value*85\n",
    "    print(usd_value,\"USD=\",INR_value,\"INR\")\n",
    "converter(75)\n",
    "    "
   ]
  },
  {
   "cell_type": "code",
   "execution_count": 38,
   "id": "8b7f4ba0-be78-48b2-83f3-1cb9f763c35f",
   "metadata": {},
   "outputs": [
    {
     "name": "stdout",
     "output_type": "stream",
     "text": [
      "EVEN\n"
     ]
    }
   ],
   "source": [
    "\n",
    "\n",
    "def print_num(n):\n",
    "    if(n%2==0):\n",
    "        print(\"EVEN\")\n",
    "    else:\n",
    "        print(\"ODD\")\n",
    "print_num(4)\n"
   ]
  },
  {
   "cell_type": "code",
   "execution_count": 34,
   "id": "ac826ff7-3abc-4329-87d9-52ceb5fbcecb",
   "metadata": {},
   "outputs": [
    {
     "name": "stdout",
     "output_type": "stream",
     "text": [
      "120\n"
     ]
    }
   ],
   "source": [
    "\n",
    "def calc_fact(n):\n",
    "    fact=1\n",
    "    for i in range(1,n+1):\n",
    "        fact*=i\n",
    "    print(fact)\n",
    "calc_fact(5)"
   ]
  },
  {
   "cell_type": "code",
   "execution_count": null,
   "id": "34648f56-2dad-4c48-9cf4-6404def2b6a0",
   "metadata": {},
   "outputs": [],
   "source": []
  }
 ],
 "metadata": {
  "kernelspec": {
   "display_name": "Python [conda env:base] *",
   "language": "python",
   "name": "conda-base-py"
  },
  "language_info": {
   "codemirror_mode": {
    "name": "ipython",
    "version": 3
   },
   "file_extension": ".py",
   "mimetype": "text/x-python",
   "name": "python",
   "nbconvert_exporter": "python",
   "pygments_lexer": "ipython3",
   "version": "3.12.7"
  }
 },
 "nbformat": 4,
 "nbformat_minor": 5
}
