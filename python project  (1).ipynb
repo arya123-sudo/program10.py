{
 "cells": [
  {
   "cell_type": "code",
   "execution_count": 35,
   "id": "06af64cb-08bd-443d-8a65-df85e0e17ddb",
   "metadata": {},
   "outputs": [
    {
     "name": "stdout",
     "output_type": "stream",
     "text": [
      "10\n"
     ]
    }
   ],
   "source": [
    "def collatz(n):\n",
    "    if(n==1):\n",
    "        return\n",
    "    elif(n%2==0):\n",
    "         num1=n//2\n",
    "         print(num1)\n",
    "    else:\n",
    "        num2=n*3+1\n",
    "        print(num2)\n",
    "collatz(3)        \n",
    "    "
   ]
  },
  {
   "cell_type": "code",
   "execution_count": 2,
   "id": "5132d2e4-6426-4b5e-8a50-8dd0abd9f7fa",
   "metadata": {},
   "outputs": [
    {
     "name": "stdin",
     "output_type": "stream",
     "text": [
      "Enter your name:  Arya R Yaligar\n",
      "Enter your USN:  !AY24AI012\n",
      "Enter your move : (a)rock (b)paper (c)seissor (d)quit  b\n"
     ]
    },
    {
     "name": "stdout",
     "output_type": "stream",
     "text": [
      "Its tie\n"
     ]
    },
    {
     "name": "stdin",
     "output_type": "stream",
     "text": [
      "Enter your move : (a)rock (b)paper (c)seissor (d)quit  a\n"
     ]
    },
    {
     "name": "stdout",
     "output_type": "stream",
     "text": [
      "Its tie\n"
     ]
    },
    {
     "name": "stdin",
     "output_type": "stream",
     "text": [
      "Enter your move : (a)rock (b)paper (c)seissor (d)quit  c\n"
     ]
    },
    {
     "name": "stdout",
     "output_type": "stream",
     "text": [
      "Its tie\n"
     ]
    },
    {
     "name": "stdin",
     "output_type": "stream",
     "text": [
      "Enter your move : (a)rock (b)paper (c)seissor (d)quit  a\n"
     ]
    },
    {
     "name": "stdout",
     "output_type": "stream",
     "text": [
      "you lost\n"
     ]
    },
    {
     "name": "stdin",
     "output_type": "stream",
     "text": [
      "Enter your move : (a)rock (b)paper (c)seissor (d)quit  a\n"
     ]
    },
    {
     "name": "stdout",
     "output_type": "stream",
     "text": [
      "you lost\n"
     ]
    },
    {
     "name": "stdin",
     "output_type": "stream",
     "text": [
      "Enter your move : (a)rock (b)paper (c)seissor (d)quit  b\n"
     ]
    },
    {
     "name": "stdout",
     "output_type": "stream",
     "text": [
      "you won\n"
     ]
    },
    {
     "name": "stdin",
     "output_type": "stream",
     "text": [
      "Enter your move : (a)rock (b)paper (c)seissor (d)quit  d\n"
     ]
    }
   ],
   "source": [
    "import random\n",
    "name=input(\"Enter your name: \")\n",
    "USN=input(\"Enter your USN: \")\n",
    "while True:\n",
    "    user_choice=input(\"Enter your move : (a)rock (b)paper (c)seissor (d)quit \")\n",
    "    if user_choice == \"d\":\n",
    "        break\n",
    "    choice=[\"a\",\"b\",\"c\"]\n",
    "    if user_choice not in choice:\n",
    "        print(\"Invalid option try again\")\n",
    "        continue\n",
    "    computer_choice=random.choice(choice)\n",
    "    \n",
    "    if user_choice==computer_choice:\n",
    "        print(\"Its tie\")\n",
    "    elif(user_choice==\"a\" and computer_choice==\"c\")or \\\n",
    "        (user_choice==\"b\" and computer_choice==\"a\")or \\\n",
    "        (user_choice==\"c\" and computer_choice==\"b\"):\n",
    "         print(\"you won\")\n",
    "    else:\n",
    "        print(\"you lost\")"
   ]
  },
  {
   "cell_type": "code",
   "execution_count": 4,
   "id": "44611287-2bf4-43db-a1a9-d108ccd8615f",
   "metadata": {},
   "outputs": [
    {
     "name": "stdin",
     "output_type": "stream",
     "text": [
      "Enter your name:  Arya R Yaligar\n",
      "Enter your USN:  1AY24AI012\n",
      "Guess the number in 1 to 10: 6\n"
     ]
    },
    {
     "name": "stdout",
     "output_type": "stream",
     "text": [
      "you lost\n"
     ]
    },
    {
     "name": "stdin",
     "output_type": "stream",
     "text": [
      "Guess the number in 1 to 10: 3\n"
     ]
    },
    {
     "name": "stdout",
     "output_type": "stream",
     "text": [
      "you lost\n"
     ]
    },
    {
     "name": "stdin",
     "output_type": "stream",
     "text": [
      "Guess the number in 1 to 10: 9\n"
     ]
    },
    {
     "name": "stdout",
     "output_type": "stream",
     "text": [
      "you lost\n"
     ]
    },
    {
     "name": "stdin",
     "output_type": "stream",
     "text": [
      "Guess the number in 1 to 10: 8\n"
     ]
    },
    {
     "name": "stdout",
     "output_type": "stream",
     "text": [
      "you lost\n"
     ]
    },
    {
     "name": "stdin",
     "output_type": "stream",
     "text": [
      "Guess the number in 1 to 10: 1\n"
     ]
    },
    {
     "name": "stdout",
     "output_type": "stream",
     "text": [
      "you lost\n"
     ]
    },
    {
     "name": "stdin",
     "output_type": "stream",
     "text": [
      "Guess the number in 1 to 10: 2\n"
     ]
    },
    {
     "name": "stdout",
     "output_type": "stream",
     "text": [
      "you lost\n"
     ]
    },
    {
     "name": "stdin",
     "output_type": "stream",
     "text": [
      "Guess the number in 1 to 10: 3\n"
     ]
    },
    {
     "name": "stdout",
     "output_type": "stream",
     "text": [
      "you won\n"
     ]
    },
    {
     "name": "stdin",
     "output_type": "stream",
     "text": [
      "Guess the number in 1 to 10: 3\n"
     ]
    },
    {
     "name": "stdout",
     "output_type": "stream",
     "text": [
      "you lost\n"
     ]
    },
    {
     "name": "stdin",
     "output_type": "stream",
     "text": [
      "Guess the number in 1 to 10: 4\n"
     ]
    },
    {
     "name": "stdout",
     "output_type": "stream",
     "text": [
      "you lost\n"
     ]
    }
   ],
   "source": [
    "import random\n",
    "name=input(\"Enter your name: \")\n",
    "USN=input(\"Enter your USN: \")\n",
    "for i in range(1,10):\n",
    "    user_choice=input(\"Guess the number in 1 to 10:\")\n",
    "    choice=[\"1\",\"2\",\"3\",\"4\",\"5\",\"6\",\"7\",\"8\",\"9\",\"10\"]\n",
    "    computer_choice=random.choice(choice)\n",
    "    if user_choice == computer_choice:\n",
    "        print(\"you won\")\n",
    "        break\n",
    "    else:\n",
    "        print(\"you lost\")\n",
    "     \n",
    "    "
   ]
  },
  {
   "cell_type": "markdown",
   "id": "9cb48c38-7073-458f-987b-dac2f7c676e1",
   "metadata": {},
   "source": [
    "import random\n",
    "name=input(\"Enter your name: \")\n",
    "USN=input(\"Enter your USN: \")\n",
    "target=random.randint(0,20)\n",
    "for i in range(20):\n",
    "    choice=int(input(\"guess a number from 1 to 20:\"))\n",
    "    if(choice==target):\n",
    "        print(\"you have guessed right number\")\n",
    "        print(\"you have guessed numbered in\" ,i,\"attempt\")\n",
    "        break\n",
    "    elif(choice<target):\n",
    "        print(\"low guess\")\n",
    "    else:\n",
    "        print(\"high guess\")"
   ]
  },
  {
   "cell_type": "code",
   "execution_count": null,
   "id": "6ac4eb05-9f87-47a4-8f32-392624f569f6",
   "metadata": {},
   "outputs": [],
   "source": []
  }
 ],
 "metadata": {
  "kernelspec": {
   "display_name": "Python [conda env:base] *",
   "language": "python",
   "name": "conda-base-py"
  },
  "language_info": {
   "codemirror_mode": {
    "name": "ipython",
    "version": 3
   },
   "file_extension": ".py",
   "mimetype": "text/x-python",
   "name": "python",
   "nbconvert_exporter": "python",
   "pygments_lexer": "ipython3",
   "version": "3.12.7"
  }
 },
 "nbformat": 4,
 "nbformat_minor": 5
}
