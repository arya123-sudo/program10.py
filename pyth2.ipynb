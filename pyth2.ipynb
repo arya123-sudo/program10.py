{
 "cells": [
  {
   "cell_type": "code",
   "execution_count": 41,
   "id": "e6a72e75-dfae-4d84-b30a-5547f6b946b3",
   "metadata": {},
   "outputs": [
    {
     "name": "stdout",
     "output_type": "stream",
     "text": [
      "{'Table': ['A funeeria', 'list of facts and figures'], 'cat': 'a small animal'}\n"
     ]
    }
   ],
   "source": [
    "dict={\n",
    "\"Table\":[\"A funeeria\",\"list of facts and figures\"],\n",
    "\"cat\":\"a small animal\"\n",
    "}\n",
    "print(dict)"
   ]
  },
  {
   "cell_type": "code",
   "execution_count": 47,
   "id": "77fc294c-c1a4-4950-9afb-f3d860190996",
   "metadata": {},
   "outputs": [
    {
     "name": "stdout",
     "output_type": "stream",
     "text": [
      "5\n"
     ]
    }
   ],
   "source": [
    "subj={\n",
    "    \"java\",\"python\",\"c\",\"c++\",\"javascript\",\n",
    "    \"java\",\"python\",\"c\",\"c++\",\"javascript\"\n",
    "}\n",
    "print(len(subj))"
   ]
  },
  {
   "cell_type": "code",
   "execution_count": 51,
   "id": "8b656c5c-7a73-4e77-9952-7f901f275504",
   "metadata": {},
   "outputs": [
    {
     "name": "stdin",
     "output_type": "stream",
     "text": [
      "enter a marks1 80\n",
      "enter a marks2 87\n",
      "enter a marks3 90\n"
     ]
    },
    {
     "name": "stdout",
     "output_type": "stream",
     "text": [
      "{'marks1': 80, 'marks2': 87, 'marks3': 90}\n"
     ]
    }
   ],
   "source": [
    "marks={}\n",
    "\n",
    "x=int(input(\"enter a marks1\"))\n",
    "marks.update({\"marks1\":x})\n",
    "y=int(input(\"enter a marks2\"))\n",
    "marks.update({\"marks2\":y})\n",
    "z=int(input(\"enter a marks3\"))\n",
    "marks.update({\"marks3\":z})\n",
    "print(marks)"
   ]
  },
  {
   "cell_type": "code",
   "execution_count": 57,
   "id": "e5dfd393-39ae-449b-8810-fa4d92fab246",
   "metadata": {},
   "outputs": [
    {
     "name": "stdout",
     "output_type": "stream",
     "text": [
      "{9, '9.0'}\n"
     ]
    }
   ],
   "source": [
    "values={9,\"9.0\"}\n",
    "print(values)"
   ]
  },
  {
   "cell_type": "code",
   "execution_count": null,
   "id": "6758f767-e532-4512-876d-8ad740513463",
   "metadata": {},
   "outputs": [],
   "source": []
  }
 ],
 "metadata": {
  "kernelspec": {
   "display_name": "Python [conda env:base] *",
   "language": "python",
   "name": "conda-base-py"
  },
  "language_info": {
   "codemirror_mode": {
    "name": "ipython",
    "version": 3
   },
   "file_extension": ".py",
   "mimetype": "text/x-python",
   "name": "python",
   "nbconvert_exporter": "python",
   "pygments_lexer": "ipython3",
   "version": "3.12.7"
  }
 },
 "nbformat": 4,
 "nbformat_minor": 5
}
